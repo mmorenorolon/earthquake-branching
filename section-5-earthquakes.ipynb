{
 "cells": [
  {
   "cell_type": "markdown",
   "id": "d7107e0d-16f1-46ee-b074-2b4c70e0eae1",
   "metadata": {},
   "source": [
    "# Section-5-Earthquakes"
   ]
  },
  {
   "cell_type": "code",
   "execution_count": 5,
   "id": "9a0a420b-73fb-4f23-ac8c-cf1ccfd81763",
   "metadata": {
    "tags": []
   },
   "outputs": [],
   "source": [
    "import os\n",
    "import pandas as pd\n",
    "import geopandas as gpd\n",
    "import numpy as np\n",
    "import matplotlib.pyplot as plt"
   ]
  },
  {
   "cell_type": "code",
   "execution_count": 6,
   "id": "58910e7b-9dfb-434c-b737-60161a21fb7a",
   "metadata": {
    "tags": []
   },
   "outputs": [],
   "source": [
    "raw_eqk = pd.read_csv(\"data/earthquake_data.csv\")"
   ]
  },
  {
   "cell_type": "code",
   "execution_count": 7,
   "id": "93a3b0fc-fe62-4056-89f0-b3cc3b7b3535",
   "metadata": {
    "tags": []
   },
   "outputs": [],
   "source": [
    "fp = os.path.join('ne_110m_admin_0_countries', 'ne_110m_admin_0_countries.shp')"
   ]
  },
  {
   "cell_type": "code",
   "execution_count": 8,
   "id": "91d7ad53-c975-43b8-a964-e4fa5971d0d7",
   "metadata": {
    "tags": []
   },
   "outputs": [],
   "source": [
    "world_map = gpd.read_file(fp)"
   ]
  },
  {
   "cell_type": "code",
   "execution_count": 9,
   "id": "7ff8b892-aa8f-42dc-9561-4573c1f4d86c",
   "metadata": {
    "tags": []
   },
   "outputs": [],
   "source": [
    "eqk = raw_eqk[(raw_eqk['type'] == 'earthquake') & (raw_eqk['mag'] >= 6.5)]"
   ]
  },
  {
   "cell_type": "code",
   "execution_count": 10,
   "id": "d5883ec4-f5ee-4861-9fd1-b746599f4b3d",
   "metadata": {
    "tags": []
   },
   "outputs": [],
   "source": [
    "# TEST"
   ]
  },
  {
   "cell_type": "code",
   "execution_count": null,
   "id": "323fa19b-7cb3-4c4e-9204-73f10dcf1fd7",
   "metadata": {},
   "outputs": [],
   "source": []
  }
 ],
 "metadata": {
  "kernelspec": {
   "display_name": "EDS-220 env",
   "language": "python",
   "name": "eds220-env"
  },
  "language_info": {
   "codemirror_mode": {
    "name": "ipython",
    "version": 3
   },
   "file_extension": ".py",
   "mimetype": "text/x-python",
   "name": "python",
   "nbconvert_exporter": "python",
   "pygments_lexer": "ipython3",
   "version": "3.11.4"
  }
 },
 "nbformat": 4,
 "nbformat_minor": 5
}
